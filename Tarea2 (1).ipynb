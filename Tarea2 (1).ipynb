{
 "cells": [
  {
   "cell_type": "markdown",
   "metadata": {
    "id": "VuipZbrNx6G9"
   },
   "source": [
    "<div align=\"left\">\n",
    "<p><img alt=\"IUDigital\" height=\"140px\" src=\"https://iudigital.educatic.com.co/cas/images/logos/iudigital/logoLogin.png\" align=\"left\" hspace=\"10px\" vspace=\"0px\"></p></div>\n",
    "<div> </div>\n",
    "<div align=\"right\">\n",
    "<p><img alt=\"Posgrado\" height=\"140px\" src=\"https://www.iudigital.edu.co/images/Oferta%20Educativa/Tecnologia/TDSoftware/Banner%20Tecnologia%20en%20Desarrollode%20Software.png#joomlaImage://local-images/Oferta%20Educativa/Tecnologia/TDSoftware/Banner%20Tecnologia%20en%20Desarrollode%20Software.png\" align=\"right\" hspace=\"10px\" vspace=\"10px\"></p></div>\n",
    "<br></br>\n",
    "<br></br>\n",
    "<br></br>\n",
    "<br></br>\n",
    "<p>\n",
    "<h1> <b> Fundamentos de Programación </b> </h1>\n",
    "<h2> Ingeniería de Software y Datos  </h2>\n",
    "<hr size=10 noshade color=\"red\">\n",
    "</p>\n",
    "\n"
   ]
  },
  {
   "cell_type": "markdown",
   "metadata": {
    "id": "Pm5smIuSNTUw"
   },
   "source": [
    "# **Tarea 2**\n",
    "\n",
    "> Temas: Condicionales (estructuras de control) y operadores.\n",
    "\n",
    "\n",
    "Al inicio de cada ejercicio se encuentra el porcentaje de ponderación con el cual se calculará la nota final de esta tarea."
   ]
  },
  {
   "cell_type": "markdown",
   "metadata": {
    "id": "bKdLoL-voFJb"
   },
   "source": [
    "# (25%) Ejercicio 1\n",
    "Vamos a mejorar la solución del Ejercicio 1 - Tarea 1.\n",
    "Realice conversiones entre las unidades de medida presentadas en la siguiente tabla:\n",
    "\n",
    "| Índice | Conversión                           | Factor |\n",
    "|:------:|--------------------------------------|:------:|\n",
    "| 0      | Kilómetro a metro                    | 1000   |\n",
    "| 1      | Centímetro a metro                   | 0.01   |\n",
    "| 2      | Kilómetro por hora a millas por hora | 0.62   |\n",
    "| 3      | Nota en Educatic a nota en Canvas    | 20     |\n",
    "| 4      | Nota en Canvas a nota en Educatic    | 0.05   |\n",
    "| 5      | Mililitro a centímetro cúbico        | 1      |\n",
    "| 6      | Dólar (USA) a peso colombiano        |Actualizar|\n",
    "| 7      | Peso colombiano a dólar (USA)        |Actualizar|\n",
    "| 8      | Libra a kilogramo                    | 0.45   |\n",
    "| 9     | Minuto luz a kilómetro               | 17987539.67|\n",
    "\n",
    "Para este ejercicio se deben almacenar los factores de conversión en un vector (tipo de dato ```list``` de Python) para luego:\n",
    "\n",
    "- Solicitar al usuario que escoja el tipo de conversión que quiere realizar, para esto hay dos opciones:\n",
    " - Si trabajas en Google Colab puedes usar una lista desplegable, que es un tipo de campo de [formulario](https://www.youtube.com/watch?v=vx7yOZ5_Cw8) llamado *dropdown*\n",
    " - Si trabajas en otro editor puedes imprimir un menú de opciones numeradas y solicitarle al usuario que ingrese con ```input```el número de la opción que le interesa.\n",
    "\n",
    "- Solicitar al usuario que ingrese el dato que quiere convertir.\n",
    "- **Realizar una estructura de selección que convierta el dato ingresado por el usuario según el tipo de conversión que ha escogido.**\n",
    "\n",
    "Al igual que en la Tarea 1, se debe acceder al factor de conversión correspondiente de acuerdo a su posición o índice en el vector de factores de conversión.\n"
   ]
  },
  {
   "cell_type": "code",
   "execution_count": 7,
   "metadata": {
    "id": "YnQLfMXJXTZy"
   },
   "outputs": [
    {
     "name": "stdout",
     "output_type": "stream",
     "text": [
      "\n",
      "Seleccione el tipo de conversión que desea realizar:\n",
      "0: Kilómetro a metro\n",
      "1: Centímetro a metro\n",
      "2: Kilómetro por hora a millas por hora\n",
      "3: Nota en Educatic a nota en Canvas\n",
      "4: Nota en Canvas a nota en Educatic\n",
      "5: Mililitro a centímetro cúbico\n",
      "6: Dólar (USA) a peso colombiano (necesita actualización)\n",
      "7: Peso colombiano a dólar (USA) (necesita actualización)\n",
      "8: Libra a kilogramo\n",
      "9: Minuto luz a kilómetro\n"
     ]
    },
    {
     "name": "stdout",
     "output_type": "stream",
     "text": [
      "El resultado de la conversión es: 17987539670.0\n"
     ]
    }
   ],
   "source": [
    "# Desarrolle su ejercicio aquí\n",
    "\n",
    "# Lista de factores de conversión\n",
    "factores_conversion = [1000, 0.01, 0.62, 20, 0.05, 1, \"Actualizar\", \"Actualizar\", 0.45, 17987539.67]\n",
    "\n",
    "# Función para mostrar el menú y capturar la opción del usuario\n",
    "def mostrar_menu():\n",
    "    print(\"\\nSeleccione el tipo de conversión que desea realizar:\")\n",
    "    print(\"0: Kilómetro a metro\")\n",
    "    print(\"1: Centímetro a metro\")\n",
    "    print(\"2: Kilómetro por hora a millas por hora\")\n",
    "    print(\"3: Nota en Educatic a nota en Canvas\")\n",
    "    print(\"4: Nota en Canvas a nota en Educatic\")\n",
    "    print(\"5: Mililitro a centímetro cúbico\")\n",
    "    print(\"6: Dólar (USA) a peso colombiano (necesita actualización)\")\n",
    "    print(\"7: Peso colombiano a dólar (USA) (necesita actualización)\")\n",
    "    print(\"8: Libra a kilogramo\")\n",
    "    print(\"9: Minuto luz a kilómetro\")\n",
    "    opcion = int(input(\"Ingrese el número de la opción que desea: \"))\n",
    "    return opcion\n",
    "\n",
    "# Función para realizar la conversión\n",
    "def realizar_conversion(opcion):\n",
    "    if opcion < 0 or opcion >= len(factores_conversion):\n",
    "        print(\"Opción no válida. Por favor seleccione un número entre 0 y 9.\")\n",
    "        return\n",
    "\n",
    "    # Solicitar el valor a convertir\n",
    "    valor = float(input(\"Ingrese el valor que desea convertir: \"))\n",
    "\n",
    "    # Acceder al factor de conversión y realizar la operación\n",
    "    factor = factores_conversion[opcion]\n",
    "    if factor == \"Actualizar\":\n",
    "        print(\"Esta opción requiere una actualización del factor de conversión.\")\n",
    "    else:\n",
    "        resultado = valor * factor\n",
    "        print(f\"El resultado de la conversión es: {resultado}\")\n",
    "\n",
    "\n",
    "if __name__ == \"__main__\":\n",
    "    opcion = mostrar_menu()\n",
    "    realizar_conversion(opcion)\n",
    "\n"
   ]
  },
  {
   "cell_type": "markdown",
   "metadata": {
    "id": "kdwhB6xi8n5I"
   },
   "source": [
    "# (25%) Ejercicio 2\n",
    "Estudie cómo realizar conversiones entre los sistemas de numeración Hexadecimal, Binario y Decimal.\n",
    "\n",
    "Programe un algoritmo que solicite al usuario un número entre 0 y 15 y entregue el valor correspondiente en los sistemas numéricos Hexadecimal y Binario.\n",
    "\n",
    "**Nota:** No está permitido usar funciones de conversión nativas como ``bin()``, ``hex()``, etc, o funciones similares de librerías."
   ]
  },
  {
   "cell_type": "code",
   "execution_count": null,
   "metadata": {
    "id": "RHFMmRm_X3sd"
   },
   "outputs": [
    {
     "name": "stdout",
     "output_type": "stream",
     "text": [
      "El número 15 en Binario es: 1111\n",
      "El número 15 en Hexadecimal es: F\n"
     ]
    }
   ],
   "source": [
    "# Desarrolle su ejercicio aquí\n",
    "\n",
    "def decimal_a_binario(decimal):\n",
    "    binario = ''\n",
    "    if decimal == 0:\n",
    "        return '0'\n",
    "    while decimal > 0:\n",
    "        residuo = decimal % 2\n",
    "        binario = str(residuo) + binario\n",
    "        decimal //= 2\n",
    "    return binario\n",
    "\n",
    "def decimal_a_hexadecimal(decimal):\n",
    "    digitos_hexadecimales = '0123456789ABCDEF'\n",
    "    hexadecimal = ''\n",
    "    if decimal == 0:\n",
    "        return '0'\n",
    "    while decimal > 0:\n",
    "        residuo = decimal % 16\n",
    "        hexadecimal = digitos_hexadecimales[residuo] + hexadecimal\n",
    "        decimal //= 16\n",
    "    return hexadecimal\n",
    "\n",
    "def main():\n",
    "    while True:\n",
    "        try:\n",
    "            numero = int(input(\"Ingrese un número entre 0 y 15: \"))\n",
    "            if 0 <= numero <= 15:\n",
    "                binario = decimal_a_binario(numero)\n",
    "                hexadecimal = decimal_a_hexadecimal(numero)\n",
    "                print(f\"El número {numero} en Binario es: {binario}\")\n",
    "                print(f\"El número {numero} en Hexadecimal es: {hexadecimal}\")\n",
    "                break\n",
    "            else:\n",
    "                print(\"Por favor, ingrese un número dentro del rango 0 a 15.\")\n",
    "        except ValueError:\n",
    "            print(\"Entrada no válida. Por favor, ingrese un número entero.\")\n",
    "\n",
    "main()\n",
    "\n"
   ]
  },
  {
   "cell_type": "markdown",
   "metadata": {
    "id": "nHnp-5M12S5O"
   },
   "source": [
    "# (25%) Ejercicio 3\n",
    "\n",
    "Propiedades de los triángulos.\n",
    "*   Si tenemos tres segmentos de cualquier longitud, no siempre se puede construir un triángulo con ellos. En cualquier triángulo, la suma de dos de sus lados siempre es mayor que el tercer lado.\n",
    "*   La suma de los ángulos de un triángulo es igual a 180°.\n",
    "\n",
    "De acuerdo con la información descrita previamente, y haciendo uso de la función `input` realizar un algoritmo que reciba tres lados y tres ángulos y determine si puede dibujarse un triángulo, en caso contrario indicar qué  problemas presenta.\n",
    "\n"
   ]
  },
  {
   "cell_type": "code",
   "execution_count": 5,
   "metadata": {
    "id": "CeQHnJ22YHRX"
   },
   "outputs": [
    {
     "name": "stdout",
     "output_type": "stream",
     "text": [
      "Los lados no cumplen la condición para formar un triángulo.\n"
     ]
    }
   ],
   "source": [
    "# Desarrolle su ejercicio aquí\n",
    "\n",
    "def es_triangulo_valido(lado1, lado2, lado3, angulo1, angulo2, angulo3):\n",
    "    # Comprobando la condición de los lados (la suma de dos lados debe ser mayor que el tercero)\n",
    "    if (lado1 + lado2 <= lado3) or (lado1 + lado3 <= lado2) or (lado2 + lado3 <= lado1):\n",
    "        return \"Los lados no cumplen la condición para formar un triángulo.\"\n",
    "\n",
    "    # Comprobando la suma de los ángulos (la suma debe ser igual a 180°)\n",
    "    if angulo1 + angulo2 + angulo3 != 180:\n",
    "        return \"La suma de los ángulos no es igual a 180°.\"\n",
    "\n",
    "    # Si ambas condiciones son correctas\n",
    "    return \"Se puede formar un triángulo con los lados y ángulos proporcionados.\"\n",
    "\n",
    "def main():\n",
    "    try:\n",
    "        # Solicitando los lados\n",
    "        lado1 = float(input(\"Ingrese el primer lado: \"))\n",
    "        lado2 = float(input(\"Ingrese el segundo lado: \"))\n",
    "        lado3 = float(input(\"Ingrese el tercer lado: \"))\n",
    "\n",
    "        # Solicitando los ángulos\n",
    "        angulo1 = float(input(\"Ingrese el primer ángulo: \"))\n",
    "        angulo2 = float(input(\"Ingrese el segundo ángulo: \"))\n",
    "        angulo3 = float(input(\"Ingrese el tercer ángulo: \"))\n",
    "\n",
    "        # Validando el triángulo\n",
    "        resultado = es_triangulo_valido(lado1, lado2, lado3, angulo1, angulo2, angulo3)\n",
    "        print(resultado)\n",
    "\n",
    "    except ValueError:\n",
    "        print(\"Entrada no válida. Por favor, ingrese números válidos.\")\n",
    "\n",
    "main()\n",
    "\n"
   ]
  },
  {
   "cell_type": "markdown",
   "metadata": {
    "id": "O9hQ5pkrz8qy"
   },
   "source": [
    "# (25%) Ejercicio 4\n",
    "\n",
    "Al final del bloque completaremos un programa que permita calcular la calificación final de un curso de acuerdo al porcentaje de ponderación y a la calificación obtenida en cada tarea.\n",
    "\n",
    "En este ejercicio debes solicitar al usuario, con la función ```input``` o por medio de formularios, las ponderaciones de cada una de las 4 tareas de un curso. También, debes solicitarle la calificación obtenida y el nombre de cada tarea.\n",
    "\n",
    "Toda la información adquirida debe ser almacenada en un diccionario (revisa los cuadernos de práctica y los módulos de Canvas donde se presenta el concepto). Luego, calcularás la calificación global del curso para finalmente presentar un resumen del desempeño del usuario."
   ]
  },
  {
   "cell_type": "code",
   "execution_count": 10,
   "metadata": {
    "id": "9_r3D3o2YItH"
   },
   "outputs": [
    {
     "name": "stdout",
     "output_type": "stream",
     "text": [
      "\n",
      "Ingrese los datos para la tarea 1:\n",
      "\n",
      "Ingrese los datos para la tarea 2:\n",
      "\n",
      "Ingrese los datos para la tarea 3:\n",
      "\n",
      "Ingrese los datos para la tarea 4:\n",
      "\n",
      "Resumen del desempeño:\n",
      "Tarea: Parcial 1 | Ponderación: 20.0% | Calificación: 90.0\n",
      "Tarea: Parcial 2 | Ponderación: 25.0% | Calificación: 80.0\n",
      "Tarea: parcial 3 | Ponderación: 25.0% | Calificación: 90.0\n",
      "Tarea: final  | Ponderación: 30.0% | Calificación: 90.0\n",
      "\n",
      "Calificación final del curso: 87.50\n"
     ]
    }
   ],
   "source": [
    "# Desarrolle su ejercicio aquí\n",
    "\n",
    "# Programa para calcular la calificación final de un curso\n",
    "\n",
    "# diccionario para almacenar la información de las tareas\n",
    "tareas = {}\n",
    "\n",
    "# Solicita la información para las 4 tareas\n",
    "for i in range(1, 5):\n",
    "    print(f\"\\nIngrese los datos para la tarea {i}:\")\n",
    "    nombre = input(\"Nombre de la tarea: \")\n",
    "    ponderacion = float(input(\"Ponderación de la tarea (en porcentaje, sin el %): \"))\n",
    "    calificacion = float(input(\"Calificación obtenida (sobre 100): \"))\n",
    "    \n",
    "    # Almacenar la información en el diccionario\n",
    "    tareas[nombre] = {\n",
    "        \"ponderacion\": ponderacion,\n",
    "        \"calificacion\": calificacion\n",
    "    }\n",
    "\n",
    "# Calcula la calificación global\n",
    "calificacion_final = 0\n",
    "for tarea in tareas.values():\n",
    "    calificacion_final += (tarea[\"ponderacion\"] / 100) * tarea[\"calificacion\"]\n",
    "\n",
    "# Muestra el resumen del desempeño\n",
    "print(\"\\nResumen del desempeño:\")\n",
    "for nombre, datos in tareas.items():\n",
    "    print(f\"Tarea: {nombre} | Ponderación: {datos['ponderacion']}% | Calificación: {datos['calificacion']}\")\n",
    "\n",
    "print(f\"\\nCalificación final del curso: {calificacion_final:.2f}\")\n",
    "\n"
   ]
  }
 ],
 "metadata": {
  "colab": {
   "provenance": [
    {
     "file_id": "1Tt9Cic63vnQkgv8Qb9cY0OE-aOqrH6nA",
     "timestamp": 1697490644150
    }
   ]
  },
  "kernelspec": {
   "display_name": "Python 3",
   "name": "python3"
  },
  "language_info": {
   "codemirror_mode": {
    "name": "ipython",
    "version": 3
   },
   "file_extension": ".py",
   "mimetype": "text/x-python",
   "name": "python",
   "nbconvert_exporter": "python",
   "pygments_lexer": "ipython3",
   "version": "3.11.9"
  }
 },
 "nbformat": 4,
 "nbformat_minor": 0
}
